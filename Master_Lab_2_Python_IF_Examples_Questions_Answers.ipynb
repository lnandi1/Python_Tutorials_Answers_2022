{
  "nbformat": 4,
  "nbformat_minor": 0,
  "metadata": {
    "colab": {
      "provenance": [],
      "collapsed_sections": []
    },
    "kernelspec": {
      "name": "python3",
      "display_name": "Python 3"
    },
    "language_info": {
      "name": "python"
    }
  },
  "cells": [
    {
      "cell_type": "markdown",
      "metadata": {
        "id": "_qNJLyEJ3PB5"
      },
      "source": [
        "*Please note that this notebook has been created by CLNandi(Dr) and cannot be used or replicated without the written permission of the author*"
      ]
    },
    {
      "cell_type": "markdown",
      "source": [
        "## **Computer Lab 2 - Introduction - Python Programs- IF statement - Examples, Questions and Answers**\n",
        "\n",
        "\n",
        "<br><b>(1)We will look at Python Programs involving the IF statement\n",
        "\n",
        "\n",
        "1.   The IF statement is a form of SELECTION\n",
        "2.   SELECTION is known as a form of PROGRAMMIMG CONSTRUCT\n",
        "3.  Just for the sake of completeness, we will mention here that there are 3 forms of PROGRAMMING CONSTRUCTS.these are known as SEQUENCE, ITERATION and SELECTION\n",
        "4.  We will look at ITERATION and SEQUENCE later\n",
        "5. Here we look at the IF statement in its Primary Form and the NESTED IF statement.\n",
        "\n",
        "\n",
        "<br>(2)When looking at programs involving the IF statement, we shall come across Relational Operators. The common ones are:-\n",
        "\n",
        "\n",
        "1.   Less than (<)\n",
        "2.   Less than or Equal to (<=)\n",
        "3.   Greater than (>)\n",
        "4.   Greater than or Equal to (>=)\n",
        "5.   Equality Operator which means is it equal to (==) \n",
        "6.   Not equal to (!= OR <>)\n",
        "\n",
        "<br><b> (3) We also look at the difference between the  equality operator which is a double equal sign '==' and not a single equal sign '='</b>\n",
        "<br><br> A YouTube video on IF statements can be found here\n",
        "https://youtu.be/b8MSIriGrnY\n",
        "\n",
        "<br><br>(4) There are Examples and Questions in this Notebook. \n",
        "<br><br>(5) First of all Run the Program related to each Example. Then Study the Program and the Output. \n",
        "<br><br>(6)Then answer the associated question.\n"
      ],
      "metadata": {
        "id": "HGsfc2jgheq1"
      }
    },
    {
      "cell_type": "markdown",
      "source": [
        "## **L2 - Example 1 - IF statement with one branch/choice**"
      ],
      "metadata": {
        "id": "hvkbhdteZYkj"
      }
    },
    {
      "cell_type": "code",
      "metadata": {
        "id": "cynqFjOR85SA",
        "colab": {
          "base_uri": "https://localhost:8080/"
        },
        "outputId": "41378acb-5cca-4032-b3c6-4fb2909d7b54"
      },
      "source": [
        "# Example 1\n",
        "Month = input(\"Enter a Month \")\n",
        "if Month == \"January\":\n",
        "  print(\"Happy New Year!!\")\n"
      ],
      "execution_count": null,
      "outputs": [
        {
          "output_type": "stream",
          "name": "stdout",
          "text": [
            "Enter a Month January\n",
            "Happy New Year!!\n"
          ]
        }
      ]
    },
    {
      "cell_type": "markdown",
      "metadata": {
        "id": "HR4aG5TQ9VKX"
      },
      "source": [
        "**Note that the above program has a single equal sign in Line 1<br>\n",
        "and a double equal sign in Line 2<br>\n",
        "So, what is the difference between a single equal sign and a double equal sign ?<br><br>\n",
        "In Month = \"January\", we are assigning the value December to the variable Month<br><br>\n",
        "In Month == \"December, we are asking the question is Month equal to January?<br>**\n",
        "\n"
      ]
    },
    {
      "cell_type": "markdown",
      "source": [
        "## **L2- Question 1 - Typing and Running the 1st Program with the IF statement**"
      ],
      "metadata": {
        "id": "jx1F9eg8aTH9"
      }
    },
    {
      "cell_type": "code",
      "source": [
        "# Insert Code Here\n",
        "# Question 1\n",
        "Month = input(\"Enter a Month \")\n",
        "if Month == \"January\":\n",
        "  print(\"Happy New Year!!\")"
      ],
      "metadata": {
        "id": "ZtomhyPHablF",
        "colab": {
          "base_uri": "https://localhost:8080/"
        },
        "outputId": "ac4c3baa-a6d2-41e9-a8f4-ec331a49a075"
      },
      "execution_count": null,
      "outputs": [
        {
          "output_type": "stream",
          "name": "stdout",
          "text": [
            "Enter a Month January\n",
            "Happy New Year!!\n"
          ]
        }
      ]
    },
    {
      "cell_type": "markdown",
      "source": [
        "## **L2 - Example 2 - The IF Statement with 2 branches/choices**"
      ],
      "metadata": {
        "id": "I5kADIA0ZiIw"
      }
    },
    {
      "cell_type": "code",
      "metadata": {
        "id": "8pPPUAthIuGQ",
        "colab": {
          "base_uri": "https://localhost:8080/"
        },
        "outputId": "aa5e9aa3-bfdc-4a18-de04-dabd8257e3e6"
      },
      "source": [
        "# Example 2\n",
        "Month = input(\"Enter a Month \")\n",
        "if Month == \"October\":\n",
        "  print(\"It is the Month of Halloween\")\n",
        "else:\n",
        "  print(\"It is not the Month of Halloween\")"
      ],
      "execution_count": null,
      "outputs": [
        {
          "output_type": "stream",
          "name": "stdout",
          "text": [
            "Enter a Month October\n",
            "It is the Month of Halloween\n"
          ]
        }
      ]
    },
    {
      "cell_type": "markdown",
      "metadata": {
        "id": "yuR4TM6JIUA4"
      },
      "source": [
        "## **L2 - Question 2 - Question on writing IF statement with 2 branches/choices**\n",
        "<br><i> Write a Program which asks the user to enter the name of a month. If they enter 'January', the message 'Happy New Year is displayed. If the month is not January then the message 'Not New Year Yet!' is displayed'</i>"
      ]
    },
    {
      "cell_type": "code",
      "metadata": {
        "id": "M3KVTojeD9Qq",
        "colab": {
          "base_uri": "https://localhost:8080/"
        },
        "outputId": "2d8ef9ac-f729-442d-d59a-8fc31cd5a57b"
      },
      "source": [
        "# Insert Code Here\n",
        "# Question 2\n",
        "Month = input(\"Enter a Month \")\n",
        "if Month == \"January\":\n",
        "  print(\"Happy New Year\")\n",
        "else:\n",
        "  print(\"Not New Year Yet\")"
      ],
      "execution_count": null,
      "outputs": [
        {
          "output_type": "stream",
          "name": "stdout",
          "text": [
            "Enter a Month March\n",
            "Not New Year Yet\n"
          ]
        }
      ]
    },
    {
      "cell_type": "markdown",
      "source": [
        "## **L2 - Example 3 - Example of IF Statement with 3 branches**"
      ],
      "metadata": {
        "id": "cjWhcS37Z5B0"
      }
    },
    {
      "cell_type": "code",
      "metadata": {
        "id": "o6pS-6g73_pj",
        "colab": {
          "base_uri": "https://localhost:8080/"
        },
        "outputId": "f5c5b3e5-e87a-4e47-c992-b4be0a24b1a8"
      },
      "source": [
        "# Example 3\n",
        "# The IF statement\n",
        "# This IF statement has 3 branches\n",
        "age = int(input(\"Enter Age \"))\n",
        "if age == 18:                                       # Asking is 18 equal to 18?\n",
        "  print(\"You are just old enough to vote \")\n",
        "elif age > 18:                                       # Asking if age is greater than 18\n",
        "  print(\"You are old enough to vote \")\n",
        "else:\n",
        "  print(\"You are too young to vote\")"
      ],
      "execution_count": null,
      "outputs": [
        {
          "output_type": "stream",
          "name": "stdout",
          "text": [
            "Enter Age 14\n",
            "You are too young to vote\n"
          ]
        }
      ]
    },
    {
      "cell_type": "markdown",
      "metadata": {
        "id": "D1s1X1CGJpHH"
      },
      "source": [
        "## **L2 - Question 3 - Question on IF Statement with 3 Branches** \n",
        "<br><i>Write a program that: Asks the user how long on average they spend watching TV each day</i>\n",
        "\n",
        "\n",
        "*  'If it is less than 2 hours, outputs ‘That shouldn’t rot your brain too much’\n",
        "* 'If it is less than 4 hours per day, outputs ‘Aren’t you getting square eyes?**\n",
        "* 'Otherwise outputs ‘Fresh air beats channel flicking’\n"
      ]
    },
    {
      "cell_type": "code",
      "metadata": {
        "id": "UNj_oG69JsYI",
        "colab": {
          "base_uri": "https://localhost:8080/"
        },
        "outputId": "f9c71aee-cfb4-4828-a925-d9f47dbb1ba8"
      },
      "source": [
        "# Insert Code Here\n",
        "# Question 3\n",
        "hours = int(input(\"How long on average do you spend watching TV? \"))\n",
        "if hours < 2:\n",
        "  print(\"That shouldn't rot your brain too much\")\n",
        "elif hours < 4:\n",
        "  print(\"Aren't you getting square eyes\")\n",
        "else:\n",
        "  print(\"Fresh air beats channel flicking\")"
      ],
      "execution_count": null,
      "outputs": [
        {
          "output_type": "stream",
          "name": "stdout",
          "text": [
            "How long on average do you spend watching TV? 3\n",
            "Aren't you getting square eyes\n"
          ]
        }
      ]
    },
    {
      "cell_type": "markdown",
      "metadata": {
        "id": "ieEqwZt4Jgyd"
      },
      "source": [
        "## **L2 - Example 4 - Example of IF Statement with Multiple Branches**"
      ]
    },
    {
      "cell_type": "code",
      "metadata": {
        "id": "XXC8fyL_KMZk",
        "colab": {
          "base_uri": "https://localhost:8080/"
        },
        "outputId": "00a454f0-5b1a-4b9f-f53e-acd85262e1f1"
      },
      "source": [
        "# Example 4\n",
        "shops = int(input(\"How many minutes does it take you to get to the shops? \"))\n",
        "if shops < 60:\n",
        "  print(\"That is a reasonable amount of time \")\n",
        "elif shops < 120:\n",
        "  print(\"Hmmm. Is there a quicker route you can take? \")\n",
        "else:\n",
        "  print(\"It seems to take you forever \")\n"
      ],
      "execution_count": null,
      "outputs": [
        {
          "output_type": "stream",
          "name": "stdout",
          "text": [
            "How many minutes does it take you to get to the shops? 160\n",
            "It seems to take you forever \n"
          ]
        }
      ]
    },
    {
      "cell_type": "markdown",
      "metadata": {
        "id": "6Oc2-yQoJ_wA"
      },
      "source": [
        "## **L2 - Question 4 - Question of IF Statement with Multiple Branches**\n",
        "<br><i>Write a program that:\n",
        "converts and outputs marks into grades, using the following data:\n",
        "\n",
        "\n",
        "1. Greater than or equal to 75 to an A\n",
        "\n",
        "2. Greater than or equal to 60 to a B\n",
        "\n",
        "3. Greater than or equal to 35 to a C\n",
        "\n",
        "4. Less than 35 to a D</i>"
      ]
    },
    {
      "cell_type": "code",
      "metadata": {
        "id": "3h8Rfu_jK0e3",
        "colab": {
          "base_uri": "https://localhost:8080/"
        },
        "outputId": "aa6631e3-5204-4f58-d232-b25206623453"
      },
      "source": [
        "# Insert Code Here\n",
        "# Question 4\n",
        "Mark = int(input(\"Enter the Mark \"))\n",
        "if Mark >=75:\n",
        "  print(\"This is a Grade A\")\n",
        "elif Mark >=60:\n",
        "  print(\"This is a Grade B\")\n",
        "elif Mark >=35:\n",
        "  print(\"This is a Grade C\")\n",
        "else:\n",
        "  print(\"This is a Grade D\")"
      ],
      "execution_count": null,
      "outputs": [
        {
          "output_type": "stream",
          "name": "stdout",
          "text": [
            "Enter the Mark 90\n",
            "This is a Grade A\n"
          ]
        }
      ]
    },
    {
      "cell_type": "markdown",
      "metadata": {
        "id": "9jSYymAfJ3Jo"
      },
      "source": [
        "## **L2 - Example 5 - Example of IF Statement with Boolean Operator OR**"
      ]
    },
    {
      "cell_type": "code",
      "metadata": {
        "id": "XlVdCJstKxcN",
        "colab": {
          "base_uri": "https://localhost:8080/"
        },
        "outputId": "13eff233-297b-4d0d-a562-5fa0926232de"
      },
      "source": [
        "# Example 5\n",
        "Flag_Colour = input(\"Enter a colour that is in the British Flag \")\n",
        "if Flag_Colour == \"Red\" or Flag_Colour == \"Blue\" or Flag_Colour == \"White\":\n",
        "  print(\"That is Correct\")\n",
        "else:\n",
        "  print(\"Try again \")"
      ],
      "execution_count": null,
      "outputs": [
        {
          "output_type": "stream",
          "name": "stdout",
          "text": [
            "Enter a colour that is in the British Flag Blue\n",
            "That is Correct\n"
          ]
        }
      ]
    },
    {
      "cell_type": "markdown",
      "metadata": {
        "id": "4DoJQqiENN7W"
      },
      "source": [
        "## **L2 - Question 5 - Question of IF Statement with Boolean Operator OR**\n",
        "<br><i> Write a program that: asks the user to name one of the Olympic Values (Respect, Excellence and Friendship) and if they correctly name one, output 'That’s correct‘, otherwise output 'Try again'</i>\n",
        "\n",
        "\n"
      ]
    },
    {
      "cell_type": "code",
      "metadata": {
        "id": "GY1YszZeNdR3",
        "colab": {
          "base_uri": "https://localhost:8080/"
        },
        "outputId": "de991a42-7b63-4f76-85d3-ac2e3edac3ae"
      },
      "source": [
        "# Insert Code Here\n",
        "# Question 5\n",
        "Olympic_Value = input(\"Enter an Olympic Value \")\n",
        "if Olympic_Value == \"Respect\" or Olympic_Value == \"Excellence\" or Olympic_Value == \"Friendship\":\n",
        "  print(\"That is Correct\")\n",
        "else:\n",
        "  print(\"Try again \")"
      ],
      "execution_count": null,
      "outputs": [
        {
          "output_type": "stream",
          "name": "stdout",
          "text": [
            "Enter an Olympic Value Respect\n",
            "That is Correct\n"
          ]
        }
      ]
    },
    {
      "cell_type": "markdown",
      "source": [
        "## **L2 - Example 6 - Checking if a given number is Even with the Mod (%) Operator**"
      ],
      "metadata": {
        "id": "ocngL_fDc6t-"
      }
    },
    {
      "cell_type": "code",
      "metadata": {
        "id": "l4mFBZhlkS43",
        "colab": {
          "base_uri": "https://localhost:8080/"
        },
        "outputId": "4ceca30d-fa65-4168-cfe1-d12043ef32a0"
      },
      "source": [
        "# Example 6\n",
        "# Is a number is even\n",
        "num = int(input(\"Enter an integer \"))  #Note the use of the 'int' keyword for integer\n",
        "if num % 2 == 0:\n",
        "  print(num, \" is even \")"
      ],
      "execution_count": null,
      "outputs": [
        {
          "output_type": "stream",
          "name": "stdout",
          "text": [
            "Enter an integer 12\n",
            "12  is even \n"
          ]
        }
      ]
    },
    {
      "cell_type": "markdown",
      "metadata": {
        "id": "NGH991CgJfp-"
      },
      "source": [
        "## **L2 - Question 6 - Is the Given Integer Odd or Even?** \n",
        "<br><i>Write a Program which invites the user to input a number and reports on whether it is odd or even</i>"
      ]
    },
    {
      "cell_type": "code",
      "metadata": {
        "id": "YNYgHvGoJqq7",
        "colab": {
          "base_uri": "https://localhost:8080/"
        },
        "outputId": "d3d62041-9f2c-45f4-c2c2-157e2dff16eb"
      },
      "source": [
        "# Insert Code Here\n",
        "# Question 6\n",
        "num = int(input(\"Enter an integer \"))  #Note the use of the 'int' keyword for integer\n",
        "if num % 2 == 0:\n",
        "  print(num, \" is even \")\n",
        "else:\n",
        "  print(num, \" is odd\")\n"
      ],
      "execution_count": null,
      "outputs": [
        {
          "output_type": "stream",
          "name": "stdout",
          "text": [
            "Enter an integer 19\n",
            "19  is odd\n"
          ]
        }
      ]
    },
    {
      "cell_type": "markdown",
      "source": [
        "## **L2 - Example 7 - Generating a Random Number between 1 and 10**"
      ],
      "metadata": {
        "id": "PE2TNlSddu1q"
      }
    },
    {
      "cell_type": "code",
      "metadata": {
        "id": "2LWkowJJ4QaS",
        "colab": {
          "base_uri": "https://localhost:8080/"
        },
        "outputId": "db0e63eb-a3b1-40cc-9082-5b394395f385"
      },
      "source": [
        "# Example 7 \n",
        "# Generating a random number between 1 and 3\n",
        "import random\n",
        "r = random.randint(1,10)\n",
        "print(r)"
      ],
      "execution_count": null,
      "outputs": [
        {
          "output_type": "stream",
          "name": "stdout",
          "text": [
            "6\n"
          ]
        }
      ]
    },
    {
      "cell_type": "markdown",
      "metadata": {
        "id": "zAA7-bMmRFX0"
      },
      "source": [
        "## **L2 - Question 7 - A Game of Rock, Paper, Scissors.**\n",
        "<br><i>Write a game that:\n",
        "Allows the user to play rock, paper, scissors against the computer Must display the computer’s choice and show the result of the game (or if you wish, look at the answer and see that you understand how the code is working)</i>"
      ]
    },
    {
      "cell_type": "code",
      "metadata": {
        "id": "q0iIevUfZU6w",
        "colab": {
          "base_uri": "https://localhost:8080/"
        },
        "outputId": "042ab9c2-f749-483e-de40-4928cfda98d2"
      },
      "source": [
        "# Insert Code Here\n",
        "# Question 7\n",
        "import random\n",
        "Computer = random.randint(1,3)\n",
        "print(Computer)\n",
        "User = int(input(\"Enter 1 for Rock, 2 for Paper, 3 for Scissors \"))\n",
        "if Computer > User:\n",
        "  print(\"Computer Wins \")\n",
        "elif Computer < User:\n",
        "  print(\"You Win\")\n",
        "else:\n",
        "  print(\"It is a Draw\")"
      ],
      "execution_count": null,
      "outputs": [
        {
          "output_type": "stream",
          "name": "stdout",
          "text": [
            "2\n",
            "Enter 1 for Rock, 2 for Paper, 3 for Scissors 3\n",
            "You Win\n"
          ]
        }
      ]
    },
    {
      "cell_type": "markdown",
      "source": [
        "## **L2 - Question 7A - An example answer of Rock, Paper, Scissors**"
      ],
      "metadata": {
        "id": "hkoU8YFAhOQN"
      }
    },
    {
      "cell_type": "code",
      "metadata": {
        "id": "uHM3n6X2Pjjc",
        "colab": {
          "base_uri": "https://localhost:8080/"
        },
        "outputId": "5465b772-0939-49b4-910c-a893d8a66b76"
      },
      "source": [
        "# Question 7A Answer - Rock, Paper, Scissors\n",
        "import random\n",
        "Computer = random.randint(1,3)\n",
        "print(Computer)\n",
        "User = int(input(\"Enter 1 for Rock, 2 for Paper, 3 for Scissors \"))\n",
        "if Computer > User:\n",
        "  print(\"Computer Wins \")\n",
        "elif Computer < User:\n",
        "  print(\"You Win\")\n",
        "else:\n",
        "  print(\"It is a Draw\")"
      ],
      "execution_count": null,
      "outputs": [
        {
          "output_type": "stream",
          "name": "stdout",
          "text": [
            "3\n",
            "Enter 1 for Rock, 2 for Paper, 3 for Scissors 3\n",
            "It is a Draw\n"
          ]
        }
      ]
    },
    {
      "cell_type": "markdown",
      "source": [
        "## **L2 - Example 8 - There is nothing for Example 8**"
      ],
      "metadata": {
        "id": "ROq0Y5GB4UwJ"
      }
    },
    {
      "cell_type": "markdown",
      "metadata": {
        "id": "y_u-XldJcbe7"
      },
      "source": [
        "## **L2 - Question 8 - Studying a Program relating to the Chinese Zodiac**\n",
        " <br><i>This example relates to the Chinese Zodiac.\n",
        "The Chinese Zodiac assigns animals to years in a 12 year cycle.\n",
        "One 12 year cycle is shown below. \n",
        "The pattern repeats from there, with 2012 being another year of the dragon and 1999 being another year of the hare.\n",
        "**<br><br>Run the Program below, study the answer and run it and go through it line by line to see that you understand it. Infact you will probably need to TRACE the program in order to understand how it works and someone/your teacher will need to show you how to TRACE a program**\n",
        "\n",
        "\n",
        "1.   Year &emsp;    Animal\n",
        "2.   2000 &emsp;           Dragon \n",
        "3.   2001  &emsp;          Snake\n",
        "4.   2002  &emsp;          Horse\n",
        "5.   2003  &emsp;          Sheep\n",
        "6.   2004   &emsp;         Monkey\n",
        "7.   2005 &emsp;  Rooster\n",
        "8.   2006 &emsp;  Dog\n",
        "9.   2007 &emsp;Pig\n",
        "10.  2008 &emsp; Rat\n",
        "11.  2009&emsp; Ox\n",
        "12.  2010 &emsp; Tiger\n",
        "13.  2011 &emsp; Hare\n",
        "\n"
      ]
    },
    {
      "cell_type": "code",
      "metadata": {
        "id": "K31zb3-2jjTs",
        "colab": {
          "base_uri": "https://localhost:8080/"
        },
        "outputId": "ab28ed35-68dc-46da-fa37-b4ffcd944aeb"
      },
      "source": [
        "# Question 8\n",
        "# Chinese Zodiac\n",
        "year = int(input(\"Enter a Year \"))\n",
        "\n",
        "if year % 12 == 8:\n",
        "  animal = \"Dragon\"\n",
        "elif year % 12 ==9:\n",
        "  animal = \"Snake\"\n",
        "elif year % 12 == 10:\n",
        "  animal = \"Horse\"\n",
        "elif year % 12 == 11:\n",
        "  animal = \"Sheep\"\n",
        "elif year % 12== 0:\n",
        "  animal = \"Monkey\"\n",
        "elif year % 12==1:\n",
        "  animal = \"Rooster\"\n",
        "elif year % 12==2:\n",
        "  animal = \"Dog\"\n",
        "elif year % 12== 3:\n",
        "  animal = \"Pig\"\n",
        "elif year % 12==4:\n",
        "  animal = \"Rat\"\n",
        "elif year % 12==5:\n",
        "  animal = \"Ox\"\n",
        "elif year % 12==6:\n",
        "  animal = \"Tiger\"\n",
        "elif year % 12==7:\n",
        "  animal = \"Hare\"\n",
        "else:\n",
        "  print(\"Invalid entry\")\n",
        "\n",
        "print(animal)"
      ],
      "execution_count": null,
      "outputs": [
        {
          "output_type": "stream",
          "name": "stdout",
          "text": [
            "Enter a Year 2022\n",
            "Tiger\n"
          ]
        }
      ]
    },
    {
      "cell_type": "markdown",
      "source": [
        "## **L2 - Example 9 - There is nothing for Example 9**"
      ],
      "metadata": {
        "id": "zpWxisHV4dkC"
      }
    },
    {
      "cell_type": "markdown",
      "metadata": {
        "id": "yGpkrtPLFsRy"
      },
      "source": [
        "## **L2 - Question 9 - Studying a Program with a NESTED IF statement**\n",
        "<br><i>Now let us look at a Program with a NESTED IF statement.\n",
        "\n",
        "<br><br>Study the Program below with a NESTED IF statement.\n",
        "\n",
        "1.   By looking at the output and going through the program line by line to see that you understand how the program produces the output\n",
        "2.  You may need to TRACE the PROGRAM in order to understand how it works. If you don't how to TRACE, someone will need to show you how it is done."
      ]
    },
    {
      "cell_type": "code",
      "metadata": {
        "id": "zMsLdVBcGM5s",
        "colab": {
          "base_uri": "https://localhost:8080/"
        },
        "outputId": "4c06c403-6f79-49ae-a4ac-bb918f68f90b"
      },
      "source": [
        "# Question 9\n",
        "# Python program to demonstrate\n",
        "# nested if statement\n",
        "num = int(input(\"Enter a number \"))\n",
        "if num >= 0:\n",
        "    if num == 0:\n",
        "        print(\"Zero\")\n",
        "    else:\n",
        "        print(\"Positive number\")\n",
        "else:\n",
        "    print(\"Negative number\")"
      ],
      "execution_count": null,
      "outputs": [
        {
          "output_type": "stream",
          "name": "stdout",
          "text": [
            "Enter a number 7\n",
            "Positive number\n"
          ]
        }
      ]
    },
    {
      "cell_type": "markdown",
      "source": [
        "## **L2 - Example 10 - There is nothing for Example 10**"
      ],
      "metadata": {
        "id": "dP9uv9J44oC9"
      }
    },
    {
      "cell_type": "markdown",
      "source": [
        "## **L2- Question 10 - Recap and YouTube Video Related to IF Statement**\n",
        "Now recap by reading over each example and question again & then you can take a look at this video containing examples of programs with the IF statement**\n",
        "https://youtu.be/b8MSIriGrnY\n"
      ],
      "metadata": {
        "id": "nHP-lPb1gcNj"
      }
    }
  ]
}